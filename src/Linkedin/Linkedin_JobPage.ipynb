{
 "cells": [
  {
   "cell_type": "markdown",
   "metadata": {},
   "source": [
    "Quick Note: Items Scraped:\n",
    "\n",
    "- Job Title\n",
    "- Company Name\n",
    "- Company Location\n",
    "- Job Description\n",
    "- Work Method (Hybrid, Remote, On-Site)\n",
    "- Experience Level\n",
    "- Post Date"
   ]
  },
  {
   "cell_type": "code",
   "execution_count": 1,
   "metadata": {},
   "outputs": [],
   "source": [
    "# Libraries\n",
    "import pandas as pd    \n",
    "import selenium\n",
    "\n",
    "from selenium import webdriver\n",
    "from selenium.webdriver.common.by import By\n",
    "from selenium.webdriver.support.ui import WebDriverWait\n",
    "from selenium.webdriver.support import expected_conditions as EC\n",
    "from selenium.webdriver.common.keys import Keys\n",
    "\n",
    "driver = webdriver.Chrome()  \n",
    "driver.implicitly_wait(5)\n",
    "driver.get('https://www.linkedin.com/login')\n",
    "\n",
    "# User Credentials\n",
    "# Reading txt file where we have our user credentials\n",
    "with open('data/user_credentials.txt', 'r',encoding=\"utf-8\") as file:\n",
    "    user_credentials = file.readlines()\n",
    "    user_credentials = [line.rstrip() for line in user_credentials]\n",
    "\n",
    "user_name = user_credentials[0] # First line\n",
    "password  = user_credentials[1] # Second line\n",
    "driver.find_element(By.XPATH, '//*[@id=\"username\"]').send_keys(user_name)\n",
    "driver.find_element(By.XPATH, '//*[@id=\"password\"]').send_keys(password)\n",
    "\n",
    "driver.find_element(By.XPATH, \"//button[@type='submit']\").click()   # Login button\n",
    "# driver.find_element(By.XPATH, '//*[@id=\"global-nav\"]/div/nav/ul/li[3]/a/span').click()   #jobs\n",
    "\n",
    "driver.get(\"https://www.linkedin.com/jobs/search/?currentJobId=3800581161&geoId=105080838&keywords=Artificial%20Intelligence%20Engineer&location=New%20York%2C%20United%20States&origin=JOB_SEARCH_PAGE_SEARCH_BUTTON&refresh=true&sortBy=R\")\n",
    "\n",
    "# above, Login to the Linkedin, and get the search results."
   ]
  },
  {
   "cell_type": "code",
   "execution_count": 15,
   "metadata": {},
   "outputs": [
    {
     "name": "stdout",
     "output_type": "stream",
     "text": [
      "Links are being collected now.\n",
      "Found 25 links for job offers\n"
     ]
    }
   ],
   "source": [
    "# Get all links for these offers\n",
    "links = []\n",
    "# Navigate 13 pages\n",
    "print('Links are being collected now.')\n",
    "try: \n",
    "    jobs_block = driver.find_element(By.CLASS_NAME, 'jobs-search-results-list')\n",
    "    jobs_list= jobs_block.find_elements(By.CSS_SELECTOR, '.jobs-search-results__list-item')\n",
    "\n",
    "    for job in jobs_list:\n",
    "        all_links = job.find_elements(By.TAG_NAME,'a')\n",
    "        for a in all_links:\n",
    "            if str(a.get_attribute('href')).startswith(\"https://www.linkedin.com/jobs/view\") and a.get_attribute('href') not in links: \n",
    "                links.append(a.get_attribute('href'))\n",
    "            else:\n",
    "                pass\n",
    "        # scroll down for each job element\n",
    "        driver.execute_script(\"arguments[0].scrollIntoView();\", job)\n",
    "\n",
    "except:\n",
    "    pass\n",
    "print('Found ' + str(len(links)) + ' links for job offers')"
   ]
  }
 ],
 "metadata": {
  "kernelspec": {
   "display_name": "Python 3",
   "language": "python",
   "name": "python3"
  },
  "language_info": {
   "codemirror_mode": {
    "name": "ipython",
    "version": 3
   },
   "file_extension": ".py",
   "mimetype": "text/x-python",
   "name": "python",
   "nbconvert_exporter": "python",
   "pygments_lexer": "ipython3",
   "version": "3.12.1"
  }
 },
 "nbformat": 4,
 "nbformat_minor": 2
}
