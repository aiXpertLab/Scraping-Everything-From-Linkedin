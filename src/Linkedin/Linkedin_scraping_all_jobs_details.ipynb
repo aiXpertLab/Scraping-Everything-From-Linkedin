{
 "cells": [
  {
   "cell_type": "markdown",
   "metadata": {},
   "source": [
    "Quick Note: Items Scraped:\n",
    "\n",
    "- Job Title\n",
    "- Company Name\n",
    "- Company Location\n",
    "- Job Description\n",
    "- Work Method (Hybrid, Remote, On-Site)\n",
    "- Experience Level\n",
    "- Post Date"
   ]
  },
  {
   "cell_type": "code",
   "execution_count": 5,
   "metadata": {},
   "outputs": [],
   "source": [
    "# Libraries\n",
    "import mymodules as mm\n",
    "\n",
    "import pandas as pd    \n",
    "import selenium\n",
    "\n",
    "from selenium import webdriver\n",
    "from selenium.webdriver.common.by import By\n",
    "from selenium.webdriver.support.ui import WebDriverWait\n",
    "from selenium.webdriver.support import expected_conditions as EC\n",
    "from selenium.webdriver.common.keys import Keys\n",
    "\n",
    "driver = webdriver.Chrome()  \n",
    "driver.implicitly_wait(5)\n",
    "driver.get('https://www.linkedin.com/login')\n",
    "\n",
    "# User Credentials\n",
    "# Reading txt file where we have our user credentials\n",
    "with open('data/user_credentials.txt', 'r',encoding=\"utf-8\") as file:\n",
    "    user_credentials = file.readlines()\n",
    "    user_credentials = [line.rstrip() for line in user_credentials]\n",
    "\n",
    "user_name = user_credentials[0] # First line\n",
    "password  = user_credentials[1] # Second line\n",
    "driver.find_element(By.XPATH, '//*[@id=\"username\"]').send_keys(user_name)\n",
    "driver.find_element(By.XPATH, '//*[@id=\"password\"]').send_keys(password)\n",
    "\n",
    "driver.find_element(By.XPATH, \"//button[@type='submit']\").click()   # Login button\n",
    "# driver.find_element(By.XPATH, '//*[@id=\"global-nav\"]/div/nav/ul/li[3]/a/span').click()   #jobs\n",
    "\n",
    "driver.get(\"https://www.linkedin.com/jobs/search/?currentJobId=3800581161&geoId=105080838&keywords=Artificial%20Intelligence%20Engineer&location=New%20York%2C%20United%20States&origin=JOB_SEARCH_PAGE_SEARCH_BUTTON&refresh=true&sortBy=R\")\n",
    "\n",
    "# above, Login to the Linkedin, and get the search results."
   ]
  },
  {
   "cell_type": "code",
   "execution_count": 3,
   "metadata": {},
   "outputs": [
    {
     "name": "stdout",
     "output_type": "stream",
     "text": [
      "Links are being collected now.\n",
      "Found 25 links for job offers\n"
     ]
    }
   ],
   "source": [
    "# Get all links for these offers\n",
    "links = []\n",
    "# Navigate 13 pages\n",
    "print('Links are being collected now.')\n",
    "try: \n",
    "    jobs_block = driver.find_element(By.CLASS_NAME, 'jobs-search-results-list')\n",
    "    jobs_list= jobs_block.find_elements(By.CSS_SELECTOR, '.jobs-search-results__list-item')\n",
    "\n",
    "    for job in jobs_list:\n",
    "        all_links = job.find_elements(By.TAG_NAME,'a')\n",
    "        for a in all_links:\n",
    "            if str(a.get_attribute('href')).startswith(\"https://www.linkedin.com/jobs/view\") and a.get_attribute('href') not in links: \n",
    "                links.append(a.get_attribute('href'))\n",
    "            else:\n",
    "                pass\n",
    "        # scroll down for each job element\n",
    "        driver.execute_script(\"arguments[0].scrollIntoView();\", job)\n",
    "\n",
    "except:\n",
    "    pass\n",
    "print('Found ' + str(len(links)) + ' links for job offers')\n",
    "# Create empty lists to store information\n",
    "job_titles = []\n",
    "company_names = []\n",
    "company_locations = []\n",
    "work_methods = []\n",
    "post_dates = []\n",
    "work_times = [] \n",
    "job_desc = []\n",
    "\n",
    "# i = 0\n",
    "j = 1"
   ]
  },
  {
   "cell_type": "code",
   "execution_count": 4,
   "metadata": {},
   "outputs": [
    {
     "name": "stdout",
     "output_type": "stream",
     "text": [
      "Visiting the links and collecting information just started.\n"
     ]
    },
    {
     "ename": "ElementClickInterceptedException",
     "evalue": "Message: element click intercepted: Element <span class=\"artdeco-button__text\">...</span> is not clickable at point (96, 24). Other element would receive the click: <svg role=\"none\" aria-hidden=\"true\" xmlns=\"http://www.w3.org/2000/svg\" width=\"24\" height=\"24\" viewBox=\"0 0 24 24\" data-supported-dps=\"24x24\" data-test-icon=\"search-medium\">...</svg>\n  (Session info: chrome=120.0.6099.217)\nStacktrace:\n\tGetHandleVerifier [0x00007FF7E19C2142+3514994]\n\t(No symbol) [0x00007FF7E15E0CE2]\n\t(No symbol) [0x00007FF7E14876AA]\n\t(No symbol) [0x00007FF7E14D88F3]\n\t(No symbol) [0x00007FF7E14D68ED]\n\t(No symbol) [0x00007FF7E14D40EC]\n\t(No symbol) [0x00007FF7E14D2EA5]\n\t(No symbol) [0x00007FF7E14C6A0F]\n\t(No symbol) [0x00007FF7E14F5FEA]\n\t(No symbol) [0x00007FF7E14C63B6]\n\t(No symbol) [0x00007FF7E14F6490]\n\t(No symbol) [0x00007FF7E15128F6]\n\t(No symbol) [0x00007FF7E14F5D93]\n\t(No symbol) [0x00007FF7E14C4BDC]\n\t(No symbol) [0x00007FF7E14C5C64]\n\tGetHandleVerifier [0x00007FF7E19EE16B+3695259]\n\tGetHandleVerifier [0x00007FF7E1A46737+4057191]\n\tGetHandleVerifier [0x00007FF7E1A3E4E3+4023827]\n\tGetHandleVerifier [0x00007FF7E17104F9+689705]\n\t(No symbol) [0x00007FF7E15EC048]\n\t(No symbol) [0x00007FF7E15E8044]\n\t(No symbol) [0x00007FF7E15E81C9]\n\t(No symbol) [0x00007FF7E15D88C4]\n\tBaseThreadInitThunk [0x00007FF91A23257D+29]\n\tRtlUserThreadStart [0x00007FF91B3CAA58+40]\n",
     "output_type": "error",
     "traceback": [
      "\u001b[1;31m---------------------------------------------------------------------------\u001b[0m",
      "\u001b[1;31mElementClickInterceptedException\u001b[0m          Traceback (most recent call last)",
      "Cell \u001b[1;32mIn[4], line 7\u001b[0m\n\u001b[0;32m      4\u001b[0m driver\u001b[38;5;241m.\u001b[39mget(links[i])\n\u001b[0;32m      5\u001b[0m \u001b[38;5;66;03m# i=i+1\u001b[39;00m\n\u001b[0;32m      6\u001b[0m \u001b[38;5;66;03m# Click See more.\u001b[39;00m\n\u001b[1;32m----> 7\u001b[0m \u001b[43mdriver\u001b[49m\u001b[38;5;241;43m.\u001b[39;49m\u001b[43mfind_element\u001b[49m\u001b[43m(\u001b[49m\u001b[43mBy\u001b[49m\u001b[38;5;241;43m.\u001b[39;49m\u001b[43mCLASS_NAME\u001b[49m\u001b[43m,\u001b[49m\u001b[38;5;124;43m\"\u001b[39;49m\u001b[38;5;124;43martdeco-button__text\u001b[39;49m\u001b[38;5;124;43m\"\u001b[39;49m\u001b[43m)\u001b[49m\u001b[38;5;241;43m.\u001b[39;49m\u001b[43mclick\u001b[49m\u001b[43m(\u001b[49m\u001b[43m)\u001b[49m\n\u001b[0;32m      8\u001b[0m \u001b[38;5;28mprint\u001b[39m(\u001b[38;5;241m3\u001b[39m)\n\u001b[0;32m      9\u001b[0m \u001b[38;5;66;03m# Find the general information of the job offers\u001b[39;00m\n",
      "File \u001b[1;32md:\\Python312\\Lib\\site-packages\\selenium\\webdriver\\remote\\webelement.py:94\u001b[0m, in \u001b[0;36mWebElement.click\u001b[1;34m(self)\u001b[0m\n\u001b[0;32m     92\u001b[0m \u001b[38;5;28;01mdef\u001b[39;00m \u001b[38;5;21mclick\u001b[39m(\u001b[38;5;28mself\u001b[39m) \u001b[38;5;241m-\u001b[39m\u001b[38;5;241m>\u001b[39m \u001b[38;5;28;01mNone\u001b[39;00m:\n\u001b[0;32m     93\u001b[0m \u001b[38;5;250m    \u001b[39m\u001b[38;5;124;03m\"\"\"Clicks the element.\"\"\"\u001b[39;00m\n\u001b[1;32m---> 94\u001b[0m     \u001b[38;5;28;43mself\u001b[39;49m\u001b[38;5;241;43m.\u001b[39;49m\u001b[43m_execute\u001b[49m\u001b[43m(\u001b[49m\u001b[43mCommand\u001b[49m\u001b[38;5;241;43m.\u001b[39;49m\u001b[43mCLICK_ELEMENT\u001b[49m\u001b[43m)\u001b[49m\n",
      "File \u001b[1;32md:\\Python312\\Lib\\site-packages\\selenium\\webdriver\\remote\\webelement.py:395\u001b[0m, in \u001b[0;36mWebElement._execute\u001b[1;34m(self, command, params)\u001b[0m\n\u001b[0;32m    393\u001b[0m     params \u001b[38;5;241m=\u001b[39m {}\n\u001b[0;32m    394\u001b[0m params[\u001b[38;5;124m\"\u001b[39m\u001b[38;5;124mid\u001b[39m\u001b[38;5;124m\"\u001b[39m] \u001b[38;5;241m=\u001b[39m \u001b[38;5;28mself\u001b[39m\u001b[38;5;241m.\u001b[39m_id\n\u001b[1;32m--> 395\u001b[0m \u001b[38;5;28;01mreturn\u001b[39;00m \u001b[38;5;28;43mself\u001b[39;49m\u001b[38;5;241;43m.\u001b[39;49m\u001b[43m_parent\u001b[49m\u001b[38;5;241;43m.\u001b[39;49m\u001b[43mexecute\u001b[49m\u001b[43m(\u001b[49m\u001b[43mcommand\u001b[49m\u001b[43m,\u001b[49m\u001b[43m \u001b[49m\u001b[43mparams\u001b[49m\u001b[43m)\u001b[49m\n",
      "File \u001b[1;32md:\\Python312\\Lib\\site-packages\\selenium\\webdriver\\remote\\webdriver.py:348\u001b[0m, in \u001b[0;36mWebDriver.execute\u001b[1;34m(self, driver_command, params)\u001b[0m\n\u001b[0;32m    346\u001b[0m response \u001b[38;5;241m=\u001b[39m \u001b[38;5;28mself\u001b[39m\u001b[38;5;241m.\u001b[39mcommand_executor\u001b[38;5;241m.\u001b[39mexecute(driver_command, params)\n\u001b[0;32m    347\u001b[0m \u001b[38;5;28;01mif\u001b[39;00m response:\n\u001b[1;32m--> 348\u001b[0m     \u001b[38;5;28;43mself\u001b[39;49m\u001b[38;5;241;43m.\u001b[39;49m\u001b[43merror_handler\u001b[49m\u001b[38;5;241;43m.\u001b[39;49m\u001b[43mcheck_response\u001b[49m\u001b[43m(\u001b[49m\u001b[43mresponse\u001b[49m\u001b[43m)\u001b[49m\n\u001b[0;32m    349\u001b[0m     response[\u001b[38;5;124m\"\u001b[39m\u001b[38;5;124mvalue\u001b[39m\u001b[38;5;124m\"\u001b[39m] \u001b[38;5;241m=\u001b[39m \u001b[38;5;28mself\u001b[39m\u001b[38;5;241m.\u001b[39m_unwrap_value(response\u001b[38;5;241m.\u001b[39mget(\u001b[38;5;124m\"\u001b[39m\u001b[38;5;124mvalue\u001b[39m\u001b[38;5;124m\"\u001b[39m, \u001b[38;5;28;01mNone\u001b[39;00m))\n\u001b[0;32m    350\u001b[0m     \u001b[38;5;28;01mreturn\u001b[39;00m response\n",
      "File \u001b[1;32md:\\Python312\\Lib\\site-packages\\selenium\\webdriver\\remote\\errorhandler.py:229\u001b[0m, in \u001b[0;36mErrorHandler.check_response\u001b[1;34m(self, response)\u001b[0m\n\u001b[0;32m    227\u001b[0m         alert_text \u001b[38;5;241m=\u001b[39m value[\u001b[38;5;124m\"\u001b[39m\u001b[38;5;124malert\u001b[39m\u001b[38;5;124m\"\u001b[39m]\u001b[38;5;241m.\u001b[39mget(\u001b[38;5;124m\"\u001b[39m\u001b[38;5;124mtext\u001b[39m\u001b[38;5;124m\"\u001b[39m)\n\u001b[0;32m    228\u001b[0m     \u001b[38;5;28;01mraise\u001b[39;00m exception_class(message, screen, stacktrace, alert_text)  \u001b[38;5;66;03m# type: ignore[call-arg]  # mypy is not smart enough here\u001b[39;00m\n\u001b[1;32m--> 229\u001b[0m \u001b[38;5;28;01mraise\u001b[39;00m exception_class(message, screen, stacktrace)\n",
      "\u001b[1;31mElementClickInterceptedException\u001b[0m: Message: element click intercepted: Element <span class=\"artdeco-button__text\">...</span> is not clickable at point (96, 24). Other element would receive the click: <svg role=\"none\" aria-hidden=\"true\" xmlns=\"http://www.w3.org/2000/svg\" width=\"24\" height=\"24\" viewBox=\"0 0 24 24\" data-supported-dps=\"24x24\" data-test-icon=\"search-medium\">...</svg>\n  (Session info: chrome=120.0.6099.217)\nStacktrace:\n\tGetHandleVerifier [0x00007FF7E19C2142+3514994]\n\t(No symbol) [0x00007FF7E15E0CE2]\n\t(No symbol) [0x00007FF7E14876AA]\n\t(No symbol) [0x00007FF7E14D88F3]\n\t(No symbol) [0x00007FF7E14D68ED]\n\t(No symbol) [0x00007FF7E14D40EC]\n\t(No symbol) [0x00007FF7E14D2EA5]\n\t(No symbol) [0x00007FF7E14C6A0F]\n\t(No symbol) [0x00007FF7E14F5FEA]\n\t(No symbol) [0x00007FF7E14C63B6]\n\t(No symbol) [0x00007FF7E14F6490]\n\t(No symbol) [0x00007FF7E15128F6]\n\t(No symbol) [0x00007FF7E14F5D93]\n\t(No symbol) [0x00007FF7E14C4BDC]\n\t(No symbol) [0x00007FF7E14C5C64]\n\tGetHandleVerifier [0x00007FF7E19EE16B+3695259]\n\tGetHandleVerifier [0x00007FF7E1A46737+4057191]\n\tGetHandleVerifier [0x00007FF7E1A3E4E3+4023827]\n\tGetHandleVerifier [0x00007FF7E17104F9+689705]\n\t(No symbol) [0x00007FF7E15EC048]\n\t(No symbol) [0x00007FF7E15E8044]\n\t(No symbol) [0x00007FF7E15E81C9]\n\t(No symbol) [0x00007FF7E15D88C4]\n\tBaseThreadInitThunk [0x00007FF91A23257D+29]\n\tRtlUserThreadStart [0x00007FF91B3CAA58+40]\n"
     ]
    }
   ],
   "source": [
    "# Visit each link one by one to scrape the information\n",
    "print('Visiting the links and collecting information just started.')\n",
    "for i in range(len(links)):\n",
    "    driver.get(links[i])\n",
    "    # i=i+1\n",
    "    # Click See more.\n",
    "    driver.find_element(By.CLASS_NAME,\"artdeco-button__text\").click()\n",
    "    print(3)\n",
    "    # Find the general information of the job offers\n",
    "    contents = driver.find_elements(By.CLASS_NAME,'p5')\n",
    "    print(contents)\n",
    "    for content in contents:\n",
    "     #   try:\n",
    "            job_titles.append((content.find_element(By.TAG_NAME, \"h1\")).text)\n",
    "            company_names.append((content.find_element(By.CLASS_NAME, \"job-details-jobs-unified-top-card__primary-description-without-tagline\")).text)\n",
    "            print(job_titles)\n",
    "            print(company_names)\n",
    "            company_locations.append((content.find_element(By.CLASS_NAME, \"jobs-unified-top-card__bullet\")).text)\n",
    "            work_methods.append((content.find_element(By.CLASS_NAME, \"jobs-unified-top-card__workplace-type\")).text)\n",
    "            post_dates.append((content.find_element(By.CLASS_NAME,\"jobs-unified-top-card__posted-date\")).text)\n",
    "            work_times.append((content.find_element(By.CLASS_NAME,\"jobs-unified-top-card__job-insight\")).text)\n",
    "            print(f'Scraping the Job Offer {j} DONE.')\n",
    "            j+= 1\n",
    "      #  except:\n",
    "       #     pass\n",
    "        \n",
    "        # Scraping the job description\n",
    "    job_description = driver.find_elements_by_class_name('jobs-description__content')\n",
    "    for description in job_description:\n",
    "        job_text = description.find_element_by_class_name(\"jobs-box__html-content\").text\n",
    "        job_desc.append(job_text)\n",
    "        print(f'Scraping the Job Offer {j}')\n",
    "            \n",
    "# Creating the dataframe \n",
    "df = pd.DataFrame(list(zip(job_titles,company_names,\n",
    "                    company_locations,work_methods,\n",
    "                    post_dates,work_times)),\n",
    "                    columns =['job_title', 'company_name',\n",
    "                           'company_location','work_method',\n",
    "                           'post_date','work_time'])\n",
    "\n",
    "# Storing the data to csv file\n",
    "df.to_csv('job_offers.csv', index=False)\n",
    "\n",
    "# Output job descriptions to txt file\n",
    "with open('job_descriptions.txt', 'w',encoding=\"utf-8\") as f:\n",
    "    for line in job_desc:\n",
    "        f.write(line)\n",
    "        f.write('\\n')"
   ]
  }
 ],
 "metadata": {
  "kernelspec": {
   "display_name": "Python 3",
   "language": "python",
   "name": "python3"
  },
  "language_info": {
   "codemirror_mode": {
    "name": "ipython",
    "version": 3
   },
   "file_extension": ".py",
   "mimetype": "text/x-python",
   "name": "python",
   "nbconvert_exporter": "python",
   "pygments_lexer": "ipython3",
   "version": "3.12.1"
  }
 },
 "nbformat": 4,
 "nbformat_minor": 2
}
